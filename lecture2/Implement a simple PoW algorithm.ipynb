{
 "cells": [
  {
   "cell_type": "markdown",
   "id": "c1b22ff0",
   "metadata": {},
   "source": [
    "## 1. Import package\n",
    "Import `hashlib` to use the hash function sha256."
   ]
  },
  {
   "cell_type": "code",
   "execution_count": 1,
   "id": "44ea4c2d",
   "metadata": {},
   "outputs": [],
   "source": [
    "import hashlib"
   ]
  },
  {
   "cell_type": "markdown",
   "id": "0e912b6b",
   "metadata": {},
   "source": [
    "## 2. Initial value setting\n",
    "Initialize values to be used in PoW. "
   ]
  },
  {
   "cell_type": "code",
   "execution_count": 2,
   "id": "959964fc",
   "metadata": {},
   "outputs": [],
   "source": [
    "nonce = 0\n",
    "data = \"Hi AI Network!\"\n",
    "previous_hash = \"00002132dec10bba23afbbc9ee3a8964a8193bf979f1ba8f6b4c4153c03072b3f2\""
   ]
  },
  {
   "cell_type": "markdown",
   "id": "74114ccb",
   "metadata": {},
   "source": [
    "## 3. Function declaration\n",
    "Declare functions to be used in PoW."
   ]
  },
  {
   "cell_type": "code",
   "execution_count": 3,
   "id": "42f78dbe",
   "metadata": {},
   "outputs": [],
   "source": [
    "def caculate_hash(previous_hash, data):\n",
    "    # calculate a hash value by adding the values of previous_hash, data, and nonce\n",
    "    hash = hashlib.sha256((previous_hash + data + str(nonce)).encode()).hexdigest()\n",
    "    return hash"
   ]
  },
  {
   "cell_type": "code",
   "execution_count": 4,
   "id": "285b526a",
   "metadata": {},
   "outputs": [],
   "source": [
    "def mine_block(difficulty):\n",
    "    global nonce\n",
    "    temp_hash = caculate_hash(previous_hash, data)\n",
    "    # check how many zeros hash value starts with\n",
    "    while temp_hash[:difficulty] != ('0' * difficulty):\n",
    "        # increase the nonce everytime the loop runs\n",
    "        nonce += 1\n",
    "        temp_hash = caculate_hash(previous_hash, data)\n",
    "    print(\"Block Mined! : \", temp_hash)\n",
    "    print(\"Nonce : \", nonce)"
   ]
  },
  {
   "cell_type": "markdown",
   "id": "6fd8aecf",
   "metadata": {},
   "source": [
    "## 4. Start PoW"
   ]
  },
  {
   "cell_type": "code",
   "execution_count": 5,
   "id": "b5070205",
   "metadata": {},
   "outputs": [
    {
     "name": "stdout",
     "output_type": "stream",
     "text": [
      "Block Mined! :  000040e0d2c6924bdb7cc99591bbbf75dd84cc158f8e7fc2bada92b1aa9557ac\n",
      "Nonce :  12379\n"
     ]
    }
   ],
   "source": [
    "mine_block(4)"
   ]
  }
 ],
 "metadata": {
  "kernelspec": {
   "display_name": "Python 3 (ipykernel)",
   "language": "python",
   "name": "python3"
  },
  "language_info": {
   "codemirror_mode": {
    "name": "ipython",
    "version": 3
   },
   "file_extension": ".py",
   "mimetype": "text/x-python",
   "name": "python",
   "nbconvert_exporter": "python",
   "pygments_lexer": "ipython3",
   "version": "3.8.10"
  }
 },
 "nbformat": 4,
 "nbformat_minor": 5
}
