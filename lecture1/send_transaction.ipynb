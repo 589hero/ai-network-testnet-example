{
 "cells": [
  {
   "cell_type": "markdown",
   "id": "8b795905",
   "metadata": {},
   "source": [
    "## 1. Install ain-py\n",
    "\n",
    "Install the ain-py package to work with AI Network.\n",
    "\n",
    "nest_asyncio is installed to solve errors that occur during asynchronous operation in a notebook environment."
   ]
  },
  {
   "cell_type": "code",
   "execution_count": 1,
   "id": "d8c7aa1d",
   "metadata": {},
   "outputs": [
    {
     "name": "stdout",
     "output_type": "stream",
     "text": [
      "Requirement already satisfied: ain-py in /Users/baekdonghoon/opt/anaconda3/lib/python3.8/site-packages (0.1.2)\n",
      "Requirement already satisfied: pycryptodome in /Users/baekdonghoon/opt/anaconda3/lib/python3.8/site-packages (from ain-py) (3.12.0)\n",
      "Requirement already satisfied: coincurve in /Users/baekdonghoon/opt/anaconda3/lib/python3.8/site-packages (from ain-py) (15.0.1)\n",
      "Requirement already satisfied: typing-extensions in /Users/baekdonghoon/opt/anaconda3/lib/python3.8/site-packages (from ain-py) (3.7.4.3)\n",
      "Requirement already satisfied: bip32 in /Users/baekdonghoon/opt/anaconda3/lib/python3.8/site-packages (from ain-py) (2.1)\n",
      "Requirement already satisfied: aiohttp[speedups] in /Users/baekdonghoon/opt/anaconda3/lib/python3.8/site-packages (from ain-py) (3.8.1)\n",
      "Requirement already satisfied: mnemonic in /Users/baekdonghoon/opt/anaconda3/lib/python3.8/site-packages (from ain-py) (0.20)\n",
      "Requirement already satisfied: jsonrpcclient in /Users/baekdonghoon/opt/anaconda3/lib/python3.8/site-packages (from ain-py) (4.0.2)\n",
      "Requirement already satisfied: yarl<2.0,>=1.0 in /Users/baekdonghoon/opt/anaconda3/lib/python3.8/site-packages (from aiohttp[speedups]->ain-py) (1.7.2)\n",
      "Requirement already satisfied: charset-normalizer<3.0,>=2.0 in /Users/baekdonghoon/opt/anaconda3/lib/python3.8/site-packages (from aiohttp[speedups]->ain-py) (2.0.9)\n",
      "Requirement already satisfied: frozenlist>=1.1.1 in /Users/baekdonghoon/opt/anaconda3/lib/python3.8/site-packages (from aiohttp[speedups]->ain-py) (1.2.0)\n",
      "Requirement already satisfied: multidict<7.0,>=4.5 in /Users/baekdonghoon/opt/anaconda3/lib/python3.8/site-packages (from aiohttp[speedups]->ain-py) (5.2.0)\n",
      "Requirement already satisfied: async-timeout<5.0,>=4.0.0a3 in /Users/baekdonghoon/opt/anaconda3/lib/python3.8/site-packages (from aiohttp[speedups]->ain-py) (4.0.1)\n",
      "Requirement already satisfied: attrs>=17.3.0 in /Users/baekdonghoon/opt/anaconda3/lib/python3.8/site-packages (from aiohttp[speedups]->ain-py) (20.3.0)\n",
      "Requirement already satisfied: aiosignal>=1.1.2 in /Users/baekdonghoon/opt/anaconda3/lib/python3.8/site-packages (from aiohttp[speedups]->ain-py) (1.2.0)\n",
      "Requirement already satisfied: Brotli in /Users/baekdonghoon/opt/anaconda3/lib/python3.8/site-packages (from aiohttp[speedups]->ain-py) (1.0.9)\n",
      "Requirement already satisfied: cchardet in /Users/baekdonghoon/opt/anaconda3/lib/python3.8/site-packages (from aiohttp[speedups]->ain-py) (2.1.7)\n",
      "Requirement already satisfied: aiodns in /Users/baekdonghoon/opt/anaconda3/lib/python3.8/site-packages (from aiohttp[speedups]->ain-py) (3.0.0)\n",
      "Requirement already satisfied: idna>=2.0 in /Users/baekdonghoon/opt/anaconda3/lib/python3.8/site-packages (from yarl<2.0,>=1.0->aiohttp[speedups]->ain-py) (2.10)\n",
      "Requirement already satisfied: pycares>=4.0.0 in /Users/baekdonghoon/opt/anaconda3/lib/python3.8/site-packages (from aiodns->aiohttp[speedups]->ain-py) (4.1.2)\n",
      "Requirement already satisfied: cffi>=1.5.0 in /Users/baekdonghoon/opt/anaconda3/lib/python3.8/site-packages (from pycares>=4.0.0->aiodns->aiohttp[speedups]->ain-py) (1.14.5)\n",
      "Requirement already satisfied: pycparser in /Users/baekdonghoon/opt/anaconda3/lib/python3.8/site-packages (from cffi>=1.5.0->pycares>=4.0.0->aiodns->aiohttp[speedups]->ain-py) (2.20)\n",
      "Requirement already satisfied: base58~=2.0 in /Users/baekdonghoon/opt/anaconda3/lib/python3.8/site-packages (from bip32->ain-py) (2.1.0)\n",
      "Requirement already satisfied: asn1crypto in /Users/baekdonghoon/opt/anaconda3/lib/python3.8/site-packages (from coincurve->ain-py) (1.4.0)\n",
      "Requirement already satisfied: nest_asyncio in /Users/baekdonghoon/opt/anaconda3/lib/python3.8/site-packages (1.5.1)\n"
     ]
    }
   ],
   "source": [
    "!pip install ain-py\n",
    "!pip install nest_asyncio"
   ]
  },
  {
   "cell_type": "markdown",
   "id": "022d5c1c",
   "metadata": {},
   "source": [
    "## 2. Import packages"
   ]
  },
  {
   "cell_type": "code",
   "execution_count": 2,
   "id": "b9e3f5de",
   "metadata": {},
   "outputs": [],
   "source": [
    "import asyncio\n",
    "import nest_asyncio\n",
    "from time import time\n",
    "from ain.ain import Ain\n",
    "from ain.types import ValueOnlyTransactionInput\n",
    "\n",
    "nest_asyncio.apply()\n",
    "\n",
    "loop = asyncio.get_event_loop()"
   ]
  },
  {
   "cell_type": "markdown",
   "id": "dbba094e",
   "metadata": {},
   "source": [
    "## 3. Create AI Network wallet\n",
    "\n",
    "Create AI Network wallet and set default wallet."
   ]
  },
  {
   "cell_type": "code",
   "execution_count": 3,
   "id": "c3ccb702",
   "metadata": {},
   "outputs": [],
   "source": [
    "ain = Ain(\"https://testnet-api.ainetwork.ai\", chainId=None)\n",
    "\n",
    "# Create address and Set default account\n",
    "accounts = ain.wallet.create(1)\n",
    "my_address = accounts[0]\n",
    "ain.wallet.setDefaultAccount(my_address)"
   ]
  },
  {
   "cell_type": "markdown",
   "id": "3cc3fef2",
   "metadata": {},
   "source": [
    "## 4. Create App\n",
    "\n",
    "Make sure your app's name includes a timestamp to avoid overlapping app names.\n",
    "\n",
    "After setting app_path, set the owner in the path of /manage_app/{appName}/create/{key} using the SET_VALUE operation.\n",
    "\n",
    "If Owner is set, it has all owner permissions(branch_owner, write_function, write_owner, write_rule) on the path /apps/{appName}.\n",
    "\n",
    "A transaction occurs during this process."
   ]
  },
  {
   "cell_type": "code",
   "execution_count": 4,
   "id": "be2e14e3",
   "metadata": {},
   "outputs": [
    {
     "name": "stdout",
     "output_type": "stream",
     "text": [
      "{'tx_hash': '0x30a9b45c57e3dc58edcefbe10ed42ad3bb0f2d4e0f488a784e893f2f88d3bc74', 'result': {'gas_amount_total': {'bandwidth': {'service': 2, 'app': {'my_app_1641880649312': 2}}, 'state': {'service': 1566}}, 'gas_cost_total': 0, 'func_results': {'_createApp': {'op_results': {'0': {'path': '/apps/my_app_1641880649312', 'result': {'code': 0, 'bandwidth_gas_amount': 1}}, '1': {'path': '/apps/my_app_1641880649312', 'result': {'code': 0, 'bandwidth_gas_amount': 1}}, '2': {'path': '/manage_app/my_app_1641880649312/config', 'result': {'code': 0, 'bandwidth_gas_amount': 1}}}, 'code': 0, 'bandwidth_gas_amount': 0}}, 'code': 0, 'bandwidth_gas_amount': 1, 'gas_amount_charged': 1568}}\n"
     ]
    }
   ],
   "source": [
    "# Use your own app name\n",
    "app_name = f\"my_app_{int(time()*1000)}\"\n",
    "app_path = f\"/apps/{app_name}\"\n",
    "\n",
    "# Create an app at /apps/{appName}. With the admin config below,\n",
    "# only 'my_address' will have owner & write permissions at /apps/{app_name}.\n",
    "async def create_my_app():\n",
    "    result = await ain.db.ref(\n",
    "        f'/manage_app/{app_name}/create/{int(time()*1000)}'\n",
    "    ).setValue(\n",
    "        ValueOnlyTransactionInput(\n",
    "            value={\n",
    "                'admin': {\n",
    "                    my_address: True\n",
    "                }\n",
    "            },\n",
    "            nonce=-1\n",
    "        )\n",
    "    )\n",
    "    print(result)\n",
    "loop.run_until_complete(create_my_app())"
   ]
  },
  {
   "cell_type": "markdown",
   "id": "c3aa72bd",
   "metadata": {},
   "source": [
    "## 5. Send Transaction\n",
    "\n",
    "Write the value \"Hello AI Network\" using SET_VALUE to the /apps/{appName} sub-path.\n",
    "\n",
    "A transaction occurs during this process."
   ]
  },
  {
   "cell_type": "code",
   "execution_count": 5,
   "id": "cf716cbb",
   "metadata": {},
   "outputs": [
    {
     "name": "stdout",
     "output_type": "stream",
     "text": [
      "{'tx_hash': '0x920bc14c3cf2f1faf994b478911d4d022b05e42b823124dcacb57fcdcc68e74d', 'result': {'gas_amount_total': {'bandwidth': {'service': 0, 'app': {'my_app_1641880649312': 1}}, 'state': {'service': 0, 'app': {'my_app_1641880649312': 966}}}, 'gas_cost_total': 0, 'code': 0, 'bandwidth_gas_amount': 1, 'gas_amount_charged': 0}}\n"
     ]
    }
   ],
   "source": [
    "# Write value to user_message_path.\n",
    "async def set_value():\n",
    "    user_message_path = f'{app_path}/messages/{my_address}'\n",
    "    result = await ain.db.ref(\n",
    "        f'{user_message_path}/{int(time()*1000)}/user'\n",
    "    ).setValue(\n",
    "        ValueOnlyTransactionInput(value='Hello AI Network', nonce=-1)\n",
    "    )\n",
    "    print(result)\n",
    "loop.run_until_complete(set_value())"
   ]
  }
 ],
 "metadata": {
  "kernelspec": {
   "display_name": "Python 3",
   "language": "python",
   "name": "python3"
  },
  "language_info": {
   "codemirror_mode": {
    "name": "ipython",
    "version": 3
   },
   "file_extension": ".py",
   "mimetype": "text/x-python",
   "name": "python",
   "nbconvert_exporter": "python",
   "pygments_lexer": "ipython3",
   "version": "3.8.8"
  }
 },
 "nbformat": 4,
 "nbformat_minor": 5
}
