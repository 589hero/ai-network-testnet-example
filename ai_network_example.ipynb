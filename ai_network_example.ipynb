{
 "cells": [
  {
   "cell_type": "code",
   "execution_count": 1,
   "id": "d8c7aa1d",
   "metadata": {},
   "outputs": [
    {
     "name": "stdout",
     "output_type": "stream",
     "text": [
      "Requirement already satisfied: ain-py in /opt/conda/lib/python3.8/site-packages (0.1.3)\n",
      "Requirement already satisfied: bip32 in /opt/conda/lib/python3.8/site-packages (from ain-py) (2.1)\n",
      "Requirement already satisfied: pycryptodome in /opt/conda/lib/python3.8/site-packages (from ain-py) (3.12.0)\n",
      "Requirement already satisfied: jsonrpcclient in /opt/conda/lib/python3.8/site-packages (from ain-py) (4.0.2)\n",
      "Requirement already satisfied: coincurve in /opt/conda/lib/python3.8/site-packages (from ain-py) (15.0.1)\n",
      "Requirement already satisfied: mnemonic in /opt/conda/lib/python3.8/site-packages (from ain-py) (0.20)\n",
      "Requirement already satisfied: typing-extensions in /opt/conda/lib/python3.8/site-packages (from ain-py) (4.0.1)\n",
      "Requirement already satisfied: aiohttp[speedups] in /opt/conda/lib/python3.8/site-packages (from ain-py) (3.8.1)\n",
      "Requirement already satisfied: yarl<2.0,>=1.0 in /opt/conda/lib/python3.8/site-packages (from aiohttp[speedups]->ain-py) (1.7.2)\n",
      "Requirement already satisfied: frozenlist>=1.1.1 in /opt/conda/lib/python3.8/site-packages (from aiohttp[speedups]->ain-py) (1.2.0)\n",
      "Requirement already satisfied: charset-normalizer<3.0,>=2.0 in /opt/conda/lib/python3.8/site-packages (from aiohttp[speedups]->ain-py) (2.0.4)\n",
      "Requirement already satisfied: async-timeout<5.0,>=4.0.0a3 in /opt/conda/lib/python3.8/site-packages (from aiohttp[speedups]->ain-py) (4.0.2)\n",
      "Requirement already satisfied: multidict<7.0,>=4.5 in /opt/conda/lib/python3.8/site-packages (from aiohttp[speedups]->ain-py) (5.2.0)\n",
      "Requirement already satisfied: attrs>=17.3.0 in /opt/conda/lib/python3.8/site-packages (from aiohttp[speedups]->ain-py) (21.4.0)\n",
      "Requirement already satisfied: aiosignal>=1.1.2 in /opt/conda/lib/python3.8/site-packages (from aiohttp[speedups]->ain-py) (1.2.0)\n",
      "Requirement already satisfied: aiodns in /opt/conda/lib/python3.8/site-packages (from aiohttp[speedups]->ain-py) (3.0.0)\n",
      "Requirement already satisfied: cchardet in /opt/conda/lib/python3.8/site-packages (from aiohttp[speedups]->ain-py) (2.1.7)\n",
      "Requirement already satisfied: Brotli in /opt/conda/lib/python3.8/site-packages (from aiohttp[speedups]->ain-py) (1.0.9)\n",
      "Requirement already satisfied: base58~=2.0 in /opt/conda/lib/python3.8/site-packages (from bip32->ain-py) (2.1.1)\n",
      "Requirement already satisfied: cffi>=1.3.0 in /opt/conda/lib/python3.8/site-packages (from coincurve->ain-py) (1.14.6)\n",
      "Requirement already satisfied: asn1crypto in /opt/conda/lib/python3.8/site-packages (from coincurve->ain-py) (1.4.0)\n",
      "Requirement already satisfied: pycparser in /opt/conda/lib/python3.8/site-packages (from cffi>=1.3.0->coincurve->ain-py) (2.21)\n",
      "Requirement already satisfied: idna>=2.0 in /opt/conda/lib/python3.8/site-packages (from yarl<2.0,>=1.0->aiohttp[speedups]->ain-py) (3.3)\n",
      "Requirement already satisfied: pycares>=4.0.0 in /opt/conda/lib/python3.8/site-packages (from aiodns->aiohttp[speedups]->ain-py) (4.1.2)\n",
      "\u001b[33mWARNING: Running pip as the 'root' user can result in broken permissions and conflicting behaviour with the system package manager. It is recommended to use a virtual environment instead: https://pip.pypa.io/warnings/venv\u001b[0m\n",
      "Requirement already satisfied: nest_asyncio in /opt/conda/lib/python3.8/site-packages (1.5.4)\n",
      "\u001b[33mWARNING: Running pip as the 'root' user can result in broken permissions and conflicting behaviour with the system package manager. It is recommended to use a virtual environment instead: https://pip.pypa.io/warnings/venv\u001b[0m\n"
     ]
    }
   ],
   "source": [
    "!pip install ain-py\n",
    "!pip install nest_asyncio"
   ]
  },
  {
   "cell_type": "code",
   "execution_count": 2,
   "id": "cf716cbb",
   "metadata": {},
   "outputs": [
    {
     "name": "stdout",
     "output_type": "stream",
     "text": [
      "{'tx_hash': '0x96db777def3e5c4102085ca14ff570191d590b2e6648ff3169e5a228d7f4cfcb', 'result': {'gas_amount_total': {'bandwidth': {'service': 1}, 'state': {'service': 0}}, 'gas_cost_total': 0, 'error_message': 'No write permission on: /manager_app/my_app_1641549177683/create/1641549177684', 'code': 103, 'bandwidth_gas_amount': 1, 'gas_amount_charged': 1}}\n",
      "None\n",
      "{'tx_hash': '0x03c676dafcb5c0113094c87fc908b75c704bbdc043d6daf7f699cc64c84ac89d', 'result': {'gas_amount_total': {'bandwidth': {'service': 0, 'app': {'my_app_1641549177683': 1}}, 'state': {'service': 0}}, 'gas_cost_total': 0, 'error_message': 'No write_rule permission on: /apps/my_app_1641549177683', 'code': 503, 'bandwidth_gas_amount': 1, 'gas_amount_charged': 0}}\n",
      "{'tx_hash': '0xac22cbdb5e0ae6791a38d75c1a61fc271945b7c330ffc6682f42393612743836', 'result': {'gas_amount_total': {'bandwidth': {'service': 0, 'app': {'my_app_1641549177683': 1}}, 'state': {'service': 0}}, 'gas_cost_total': 0, 'error_message': 'No write permission on: /apps/my_app_1641549177683/messages/0x488E3e9387D7FE1140306fe2F6Ee25ca7c1638EB/1641549178089/user', 'code': 103, 'bandwidth_gas_amount': 1, 'gas_amount_charged': 0}}\n"
     ]
    }
   ],
   "source": [
    "import asyncio\n",
    "import nest_asyncio\n",
    "from time import time\n",
    "from ain.ain import Ain\n",
    "from ain.types import ValueOnlyTransactionInput\n",
    "\n",
    "nest_asyncio.apply()\n",
    "\n",
    "loop = asyncio.get_event_loop()\n",
    "\n",
    "ain = Ain(\"https://testnet-api.ainetwork.ai\", chainId=None)\n",
    "\n",
    "# Create address and Set default account\n",
    "accounts = ain.wallet.create(1)\n",
    "my_address = accounts[0]\n",
    "ain.wallet.setDefaultAccount(my_address)\n",
    "\n",
    "# Use your own app name\n",
    "app_name = f\"my_app_{int(time()*1000)}\"\n",
    "app_path = f\"/apps/{app_name}\"\n",
    "\n",
    "# Create an app at /apps/{appName}. With the admin config below,\n",
    "# only 'my_address' will have owner & write permissions at /apps/{app_name}.\n",
    "async def create_my_app():\n",
    "    result = await ain.db.ref(\n",
    "        f'/manager_app/{app_name}/create/{int(time()*1000)}'\n",
    "    ).setValue(\n",
    "        ValueOnlyTransactionInput(\n",
    "            value={\n",
    "                'admin': {\n",
    "                    my_address: True\n",
    "                }\n",
    "            },\n",
    "            nonce=-1\n",
    "        )\n",
    "    )\n",
    "    print(result)\n",
    "loop.run_until_complete(create_my_app())\n",
    "\n",
    "# print Owner of this App.\n",
    "async def get_my_app_owner():\n",
    "    result = await ain.db.ref(app_path).getOwner()\n",
    "    print(result)\n",
    "loop.run_until_complete(get_my_app_owner())\n",
    "\n",
    "\n",
    "# Set write rule that allow everyone to set value.\n",
    "async def set_write_rule():\n",
    "    result = await ain.db.ref(app_path).setRule(\n",
    "        ValueOnlyTransactionInput(\n",
    "            value={\n",
    "                '.rule': {\n",
    "                    'write': True\n",
    "                }\n",
    "            },\n",
    "            nonce=-1\n",
    "        )\n",
    "    )\n",
    "    print(result)\n",
    "loop.run_until_complete(set_write_rule())\n",
    "\n",
    "# Write value to user_message_path.\n",
    "async def set_value():\n",
    "    user_message_path = f'{app_path}/messages/{my_address}'\n",
    "    result = await ain.db.ref(\n",
    "        f'{user_message_path}/{int(time()*1000)}/user'\n",
    "    ).setValue(\n",
    "        ValueOnlyTransactionInput(value='Hello AI Network', nonce=-1)\n",
    "    )\n",
    "    print(result)\n",
    "loop.run_until_complete(set_value())\n"
   ]
  },
  {
   "cell_type": "code",
   "execution_count": null,
   "id": "edc78678",
   "metadata": {},
   "outputs": [],
   "source": []
  }
 ],
 "metadata": {
  "kernelspec": {
   "display_name": "Python 3",
   "language": "python",
   "name": "python3"
  },
  "language_info": {
   "codemirror_mode": {
    "name": "ipython",
    "version": 3
   },
   "file_extension": ".py",
   "mimetype": "text/x-python",
   "name": "python",
   "nbconvert_exporter": "python",
   "pygments_lexer": "ipython3",
   "version": "3.8.12"
  }
 },
 "nbformat": 4,
 "nbformat_minor": 5
}
